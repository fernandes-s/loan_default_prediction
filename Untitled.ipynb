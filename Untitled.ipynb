{
 "cells": [
  {
   "cell_type": "markdown",
   "id": "7f9b3c9d",
   "metadata": {},
   "source": [
    "<h1 style= \"text-align: center;\"> Loan Default Prediction</h1>\n",
    "<h5 style= \"text-align: center;\">Predicting loan defaults using machine learning</h5>"
   ]
  },
  {
   "cell_type": "code",
   "execution_count": 83,
   "id": "c8f47a56",
   "metadata": {},
   "outputs": [],
   "source": [
    "# Data Handling\n",
    "import pandas as pd\n",
    "import numpy as np\n",
    "\n",
    "# Visualization\n",
    "import matplotlib.pyplot as plt\n",
    "import seaborn as sns\n",
    "\n",
    "# Scaling and Preprocessing\n",
    "from sklearn.preprocessing import StandardScaler\n",
    "\n",
    "# Handling Imbalanced Data\n",
    "from imblearn.over_sampling import SMOTE\n",
    "\n",
    "# Train-Test Split\n",
    "from sklearn.model_selection import train_test_split\n"
   ]
  },
  {
   "cell_type": "code",
   "execution_count": 84,
   "id": "e95667af",
   "metadata": {},
   "outputs": [
    {
     "data": {
      "text/html": [
       "<div>\n",
       "<style scoped>\n",
       "    .dataframe tbody tr th:only-of-type {\n",
       "        vertical-align: middle;\n",
       "    }\n",
       "\n",
       "    .dataframe tbody tr th {\n",
       "        vertical-align: top;\n",
       "    }\n",
       "\n",
       "    .dataframe thead th {\n",
       "        text-align: right;\n",
       "    }\n",
       "</style>\n",
       "<table border=\"1\" class=\"dataframe\">\n",
       "  <thead>\n",
       "    <tr style=\"text-align: right;\">\n",
       "      <th></th>\n",
       "      <th>LoanID</th>\n",
       "      <th>Age</th>\n",
       "      <th>Income</th>\n",
       "      <th>LoanAmount</th>\n",
       "      <th>CreditScore</th>\n",
       "      <th>MonthsEmployed</th>\n",
       "      <th>NumCreditLines</th>\n",
       "      <th>InterestRate</th>\n",
       "      <th>LoanTerm</th>\n",
       "      <th>DTIRatio</th>\n",
       "      <th>Education</th>\n",
       "      <th>EmploymentType</th>\n",
       "      <th>MaritalStatus</th>\n",
       "      <th>HasMortgage</th>\n",
       "      <th>HasDependents</th>\n",
       "      <th>LoanPurpose</th>\n",
       "      <th>HasCoSigner</th>\n",
       "      <th>Default</th>\n",
       "    </tr>\n",
       "  </thead>\n",
       "  <tbody>\n",
       "    <tr>\n",
       "      <th>0</th>\n",
       "      <td>I38PQUQS96</td>\n",
       "      <td>56</td>\n",
       "      <td>85994</td>\n",
       "      <td>50587</td>\n",
       "      <td>520</td>\n",
       "      <td>80</td>\n",
       "      <td>4</td>\n",
       "      <td>15.23</td>\n",
       "      <td>36</td>\n",
       "      <td>0.44</td>\n",
       "      <td>Bachelor's</td>\n",
       "      <td>Full-time</td>\n",
       "      <td>Divorced</td>\n",
       "      <td>Yes</td>\n",
       "      <td>Yes</td>\n",
       "      <td>Other</td>\n",
       "      <td>Yes</td>\n",
       "      <td>0</td>\n",
       "    </tr>\n",
       "    <tr>\n",
       "      <th>1</th>\n",
       "      <td>HPSK72WA7R</td>\n",
       "      <td>69</td>\n",
       "      <td>50432</td>\n",
       "      <td>124440</td>\n",
       "      <td>458</td>\n",
       "      <td>15</td>\n",
       "      <td>1</td>\n",
       "      <td>4.81</td>\n",
       "      <td>60</td>\n",
       "      <td>0.68</td>\n",
       "      <td>Master's</td>\n",
       "      <td>Full-time</td>\n",
       "      <td>Married</td>\n",
       "      <td>No</td>\n",
       "      <td>No</td>\n",
       "      <td>Other</td>\n",
       "      <td>Yes</td>\n",
       "      <td>0</td>\n",
       "    </tr>\n",
       "    <tr>\n",
       "      <th>2</th>\n",
       "      <td>C1OZ6DPJ8Y</td>\n",
       "      <td>46</td>\n",
       "      <td>84208</td>\n",
       "      <td>129188</td>\n",
       "      <td>451</td>\n",
       "      <td>26</td>\n",
       "      <td>3</td>\n",
       "      <td>21.17</td>\n",
       "      <td>24</td>\n",
       "      <td>0.31</td>\n",
       "      <td>Master's</td>\n",
       "      <td>Unemployed</td>\n",
       "      <td>Divorced</td>\n",
       "      <td>Yes</td>\n",
       "      <td>Yes</td>\n",
       "      <td>Auto</td>\n",
       "      <td>No</td>\n",
       "      <td>1</td>\n",
       "    </tr>\n",
       "    <tr>\n",
       "      <th>3</th>\n",
       "      <td>V2KKSFM3UN</td>\n",
       "      <td>32</td>\n",
       "      <td>31713</td>\n",
       "      <td>44799</td>\n",
       "      <td>743</td>\n",
       "      <td>0</td>\n",
       "      <td>3</td>\n",
       "      <td>7.07</td>\n",
       "      <td>24</td>\n",
       "      <td>0.23</td>\n",
       "      <td>High School</td>\n",
       "      <td>Full-time</td>\n",
       "      <td>Married</td>\n",
       "      <td>No</td>\n",
       "      <td>No</td>\n",
       "      <td>Business</td>\n",
       "      <td>No</td>\n",
       "      <td>0</td>\n",
       "    </tr>\n",
       "    <tr>\n",
       "      <th>4</th>\n",
       "      <td>EY08JDHTZP</td>\n",
       "      <td>60</td>\n",
       "      <td>20437</td>\n",
       "      <td>9139</td>\n",
       "      <td>633</td>\n",
       "      <td>8</td>\n",
       "      <td>4</td>\n",
       "      <td>6.51</td>\n",
       "      <td>48</td>\n",
       "      <td>0.73</td>\n",
       "      <td>Bachelor's</td>\n",
       "      <td>Unemployed</td>\n",
       "      <td>Divorced</td>\n",
       "      <td>No</td>\n",
       "      <td>Yes</td>\n",
       "      <td>Auto</td>\n",
       "      <td>No</td>\n",
       "      <td>0</td>\n",
       "    </tr>\n",
       "    <tr>\n",
       "      <th>...</th>\n",
       "      <td>...</td>\n",
       "      <td>...</td>\n",
       "      <td>...</td>\n",
       "      <td>...</td>\n",
       "      <td>...</td>\n",
       "      <td>...</td>\n",
       "      <td>...</td>\n",
       "      <td>...</td>\n",
       "      <td>...</td>\n",
       "      <td>...</td>\n",
       "      <td>...</td>\n",
       "      <td>...</td>\n",
       "      <td>...</td>\n",
       "      <td>...</td>\n",
       "      <td>...</td>\n",
       "      <td>...</td>\n",
       "      <td>...</td>\n",
       "      <td>...</td>\n",
       "    </tr>\n",
       "    <tr>\n",
       "      <th>255342</th>\n",
       "      <td>8C6S86ESGC</td>\n",
       "      <td>19</td>\n",
       "      <td>37979</td>\n",
       "      <td>210682</td>\n",
       "      <td>541</td>\n",
       "      <td>109</td>\n",
       "      <td>4</td>\n",
       "      <td>14.11</td>\n",
       "      <td>12</td>\n",
       "      <td>0.85</td>\n",
       "      <td>Bachelor's</td>\n",
       "      <td>Full-time</td>\n",
       "      <td>Married</td>\n",
       "      <td>No</td>\n",
       "      <td>No</td>\n",
       "      <td>Other</td>\n",
       "      <td>No</td>\n",
       "      <td>0</td>\n",
       "    </tr>\n",
       "    <tr>\n",
       "      <th>255343</th>\n",
       "      <td>98R4KDHNND</td>\n",
       "      <td>32</td>\n",
       "      <td>51953</td>\n",
       "      <td>189899</td>\n",
       "      <td>511</td>\n",
       "      <td>14</td>\n",
       "      <td>2</td>\n",
       "      <td>11.55</td>\n",
       "      <td>24</td>\n",
       "      <td>0.21</td>\n",
       "      <td>High School</td>\n",
       "      <td>Part-time</td>\n",
       "      <td>Divorced</td>\n",
       "      <td>No</td>\n",
       "      <td>No</td>\n",
       "      <td>Home</td>\n",
       "      <td>No</td>\n",
       "      <td>1</td>\n",
       "    </tr>\n",
       "    <tr>\n",
       "      <th>255344</th>\n",
       "      <td>XQK1UUUNGP</td>\n",
       "      <td>56</td>\n",
       "      <td>84820</td>\n",
       "      <td>208294</td>\n",
       "      <td>597</td>\n",
       "      <td>70</td>\n",
       "      <td>3</td>\n",
       "      <td>5.29</td>\n",
       "      <td>60</td>\n",
       "      <td>0.50</td>\n",
       "      <td>High School</td>\n",
       "      <td>Self-employed</td>\n",
       "      <td>Married</td>\n",
       "      <td>Yes</td>\n",
       "      <td>Yes</td>\n",
       "      <td>Auto</td>\n",
       "      <td>Yes</td>\n",
       "      <td>0</td>\n",
       "    </tr>\n",
       "    <tr>\n",
       "      <th>255345</th>\n",
       "      <td>JAO28CPL4H</td>\n",
       "      <td>42</td>\n",
       "      <td>85109</td>\n",
       "      <td>60575</td>\n",
       "      <td>809</td>\n",
       "      <td>40</td>\n",
       "      <td>1</td>\n",
       "      <td>20.90</td>\n",
       "      <td>48</td>\n",
       "      <td>0.44</td>\n",
       "      <td>High School</td>\n",
       "      <td>Part-time</td>\n",
       "      <td>Single</td>\n",
       "      <td>Yes</td>\n",
       "      <td>Yes</td>\n",
       "      <td>Other</td>\n",
       "      <td>No</td>\n",
       "      <td>0</td>\n",
       "    </tr>\n",
       "    <tr>\n",
       "      <th>255346</th>\n",
       "      <td>ZTH91CGL0B</td>\n",
       "      <td>62</td>\n",
       "      <td>22418</td>\n",
       "      <td>18481</td>\n",
       "      <td>636</td>\n",
       "      <td>113</td>\n",
       "      <td>2</td>\n",
       "      <td>6.73</td>\n",
       "      <td>12</td>\n",
       "      <td>0.48</td>\n",
       "      <td>Bachelor's</td>\n",
       "      <td>Unemployed</td>\n",
       "      <td>Divorced</td>\n",
       "      <td>Yes</td>\n",
       "      <td>No</td>\n",
       "      <td>Education</td>\n",
       "      <td>Yes</td>\n",
       "      <td>0</td>\n",
       "    </tr>\n",
       "  </tbody>\n",
       "</table>\n",
       "<p>255347 rows × 18 columns</p>\n",
       "</div>"
      ],
      "text/plain": [
       "            LoanID  Age  Income  LoanAmount  CreditScore  MonthsEmployed  \\\n",
       "0       I38PQUQS96   56   85994       50587          520              80   \n",
       "1       HPSK72WA7R   69   50432      124440          458              15   \n",
       "2       C1OZ6DPJ8Y   46   84208      129188          451              26   \n",
       "3       V2KKSFM3UN   32   31713       44799          743               0   \n",
       "4       EY08JDHTZP   60   20437        9139          633               8   \n",
       "...            ...  ...     ...         ...          ...             ...   \n",
       "255342  8C6S86ESGC   19   37979      210682          541             109   \n",
       "255343  98R4KDHNND   32   51953      189899          511              14   \n",
       "255344  XQK1UUUNGP   56   84820      208294          597              70   \n",
       "255345  JAO28CPL4H   42   85109       60575          809              40   \n",
       "255346  ZTH91CGL0B   62   22418       18481          636             113   \n",
       "\n",
       "        NumCreditLines  InterestRate  LoanTerm  DTIRatio    Education  \\\n",
       "0                    4         15.23        36      0.44   Bachelor's   \n",
       "1                    1          4.81        60      0.68     Master's   \n",
       "2                    3         21.17        24      0.31     Master's   \n",
       "3                    3          7.07        24      0.23  High School   \n",
       "4                    4          6.51        48      0.73   Bachelor's   \n",
       "...                ...           ...       ...       ...          ...   \n",
       "255342               4         14.11        12      0.85   Bachelor's   \n",
       "255343               2         11.55        24      0.21  High School   \n",
       "255344               3          5.29        60      0.50  High School   \n",
       "255345               1         20.90        48      0.44  High School   \n",
       "255346               2          6.73        12      0.48   Bachelor's   \n",
       "\n",
       "       EmploymentType MaritalStatus HasMortgage HasDependents LoanPurpose  \\\n",
       "0           Full-time      Divorced         Yes           Yes       Other   \n",
       "1           Full-time       Married          No            No       Other   \n",
       "2          Unemployed      Divorced         Yes           Yes        Auto   \n",
       "3           Full-time       Married          No            No    Business   \n",
       "4          Unemployed      Divorced          No           Yes        Auto   \n",
       "...               ...           ...         ...           ...         ...   \n",
       "255342      Full-time       Married          No            No       Other   \n",
       "255343      Part-time      Divorced          No            No        Home   \n",
       "255344  Self-employed       Married         Yes           Yes        Auto   \n",
       "255345      Part-time        Single         Yes           Yes       Other   \n",
       "255346     Unemployed      Divorced         Yes            No   Education   \n",
       "\n",
       "       HasCoSigner  Default  \n",
       "0              Yes        0  \n",
       "1              Yes        0  \n",
       "2               No        1  \n",
       "3               No        0  \n",
       "4               No        0  \n",
       "...            ...      ...  \n",
       "255342          No        0  \n",
       "255343          No        1  \n",
       "255344         Yes        0  \n",
       "255345          No        0  \n",
       "255346         Yes        0  \n",
       "\n",
       "[255347 rows x 18 columns]"
      ]
     },
     "execution_count": 84,
     "metadata": {},
     "output_type": "execute_result"
    }
   ],
   "source": [
    "df = pd.read_csv(\"Loan_default.csv\")\n",
    "df"
   ]
  },
  {
   "cell_type": "markdown",
   "id": "f633e879",
   "metadata": {},
   "source": [
    "# Initial Dataset Columns Overview\n",
    "\n",
    "## Column Descriptions\n",
    "- **LoanID**: Unique identifier for each loan (Categorical - `object`).\n",
    "- **Age**: Age of the borrower (Numerical - `int64`).\n",
    "- **Income**: Annual income of the borrower (Numerical - `int64`).\n",
    "- **LoanAmount**: Amount of the loan (Numerical - `int64`).\n",
    "- **CreditScore**: Credit score of the borrower (Numerical - `int64`).\n",
    "- **MonthsEmployed**: Number of months the borrower has been employed (Numerical - `int64`).\n",
    "- **NumCreditLines**: Number of active credit lines (Numerical - `int64`).\n",
    "- **InterestRate**: Interest rate for the loan (Numerical - `float64`).\n",
    "- **LoanTerm**: Term of the loan in months (Numerical - `int64`).\n",
    "- **DTIRatio**: Debt-to-Income ratio (Numerical - `float64`).\n",
    "- **Education**: Borrower's level of education (Categorical - `object`).\n",
    "- **EmploymentType**: Type of employment (Categorical - `object`).\n",
    "- **MaritalStatus**: Marital status of the borrower (Categorical - `object`).\n",
    "- **HasMortgage**: Indicates whether the borrower has a mortgage (`Yes`/`No`) (Categorical - `object`).\n",
    "- **HasDependents**: Indicates whether the borrower has dependents (`Yes`/`No`) (Categorical - `object`).\n",
    "- **LoanPurpose**: Purpose of the loan (e.g., `Auto`, `Education`, `Home`) (Categorical - `object`).\n",
    "- **HasCoSigner**: Indicates whether there is a co-signer for the loan (`Yes`/`No`) (Categorical - `object`).\n",
    "- **Default**: Target variable indicating whether the borrower defaulted on the loan (`0` = No, `1` = Yes) (Numerical - `int64`).\n",
    "\n",
    "---\n",
    "\n",
    "## Column Types\n",
    "- **Numerical Columns**: 10\n",
    "  - Age, Income, LoanAmount, CreditScore, MonthsEmployed, NumCreditLines, InterestRate, LoanTerm, DTIRatio, Default.\n",
    "- **Categorical Columns**: 8\n",
    "  - LoanID, Education, EmploymentType, MaritalStatus, HasMortgage, HasDependents, LoanPurpose, HasCoSigner.\n",
    "- **Target Variable**: `Default` column is binary:\n",
    "    - 0: The borrower did not default (loan is repaid as scheduled).\n",
    "    - 1: The borrower defaulted (failed to meet repayment terms)."
   ]
  },
  {
   "cell_type": "code",
   "execution_count": 102,
   "id": "8ae1fd8a",
   "metadata": {},
   "outputs": [
    {
     "name": "stdout",
     "output_type": "stream",
     "text": [
      "<class 'pandas.core.frame.DataFrame'>\n",
      "RangeIndex: 255347 entries, 0 to 255346\n",
      "Data columns (total 18 columns):\n",
      " #   Column          Non-Null Count   Dtype  \n",
      "---  ------          --------------   -----  \n",
      " 0   LoanID          255347 non-null  object \n",
      " 1   Age             255347 non-null  int64  \n",
      " 2   Income          255347 non-null  int64  \n",
      " 3   LoanAmount      255347 non-null  int64  \n",
      " 4   CreditScore     255347 non-null  int64  \n",
      " 5   MonthsEmployed  255347 non-null  int64  \n",
      " 6   NumCreditLines  255347 non-null  int64  \n",
      " 7   InterestRate    255347 non-null  float64\n",
      " 8   LoanTerm        255347 non-null  int64  \n",
      " 9   DTIRatio        255347 non-null  float64\n",
      " 10  Education       255347 non-null  object \n",
      " 11  EmploymentType  255347 non-null  object \n",
      " 12  MaritalStatus   255347 non-null  object \n",
      " 13  HasMortgage     255347 non-null  object \n",
      " 14  HasDependents   255347 non-null  object \n",
      " 15  LoanPurpose     255347 non-null  object \n",
      " 16  HasCoSigner     255347 non-null  object \n",
      " 17  Default         255347 non-null  int64  \n",
      "dtypes: float64(2), int64(8), object(8)\n",
      "memory usage: 35.1+ MB\n"
     ]
    }
   ],
   "source": [
    "df.info()"
   ]
  },
  {
   "cell_type": "markdown",
   "id": "70ce341c",
   "metadata": {},
   "source": [
    "## Data Quality\n",
    "- **Missing Values**: None (all columns have complete data).\n",
    "- **Duplicates**: Removed using `df.drop_duplicates()`.\n",
    "- **Outliers**: No significant outliers detected in the numerical columns based on boxplots."
   ]
  },
  {
   "cell_type": "code",
   "execution_count": 86,
   "id": "30782814",
   "metadata": {},
   "outputs": [
    {
     "data": {
      "text/plain": [
       "LoanID            0\n",
       "Age               0\n",
       "Income            0\n",
       "LoanAmount        0\n",
       "CreditScore       0\n",
       "MonthsEmployed    0\n",
       "NumCreditLines    0\n",
       "InterestRate      0\n",
       "LoanTerm          0\n",
       "DTIRatio          0\n",
       "Education         0\n",
       "EmploymentType    0\n",
       "MaritalStatus     0\n",
       "HasMortgage       0\n",
       "HasDependents     0\n",
       "LoanPurpose       0\n",
       "HasCoSigner       0\n",
       "Default           0\n",
       "dtype: int64"
      ]
     },
     "execution_count": 86,
     "metadata": {},
     "output_type": "execute_result"
    }
   ],
   "source": [
    "# Check for null alues\n",
    "df.isnull().sum()"
   ]
  },
  {
   "cell_type": "code",
   "execution_count": 87,
   "id": "67422050",
   "metadata": {},
   "outputs": [],
   "source": [
    "# Drop Duplicates\n",
    "df = df.drop_duplicates()"
   ]
  },
  {
   "cell_type": "code",
   "execution_count": 88,
   "id": "67234dca",
   "metadata": {},
   "outputs": [
    {
     "data": {
      "image/png": "[encoded data removed]",
      "text/plain": [
       "<Figure size 1800x2000 with 12 Axes>"
      ]
     },
     "metadata": {},
     "output_type": "display_data"
    }
   ],
   "source": [
    "# Select numerical columns\n",
    "numerical_columns = df.select_dtypes(include=['int64', 'float64']).columns\n",
    "\n",
    "# Set up the figure size and layout\n",
    "num_cols = len(numerical_columns)\n",
    "rows = (num_cols // 3) + (num_cols % 3 > 0)  # Calculate rows for a 3-column layout\n",
    "\n",
    "fig, axes = plt.subplots(rows, 3, figsize=(18, rows * 5))  # Adjust grid and size\n",
    "axes = axes.flatten()  # Flatten axes for easy iteration\n",
    "\n",
    "# Create boxplots\n",
    "for i, column in enumerate(numerical_columns):\n",
    "    sns.boxplot(ax=axes[i], x=df[column])\n",
    "    axes[i].set_title(f\"Boxplot of {column}\")\n",
    "    axes[i].set_xlabel(\"\") \n",
    "\n",
    "# Adjust layout\n",
    "plt.tight_layout()\n",
    "plt.show()"
   ]
  },
  {
   "cell_type": "markdown",
   "id": "a5e18764",
   "metadata": {},
   "source": [
    "## Unique Values in Categorical Features\n",
    "- **LoanID**: Unique for every record.\n",
    "- **Education**: [\"Bachelor's\", \"Master's\", \"High School\", \"PhD\"]\n",
    "- **EmploymentType**: ['Full-time', 'Unemployed', 'Self-employed', 'Part-time']\n",
    "- **MaritalStatus**: ['Divorced', 'Married', 'Single']\n",
    "- **HasMortgage**: ['Yes', 'No']\n",
    "- **HasDependents**: ['Yes', 'No']\n",
    "- **LoanPurpose**: ['Other', 'Auto', 'Business', 'Home', 'Education']\n",
    "- **HasCoSigner**: ['Yes', 'No']\n"
   ]
  },
  {
   "cell_type": "code",
   "execution_count": 89,
   "id": "361f70bb",
   "metadata": {},
   "outputs": [
    {
     "name": "stdout",
     "output_type": "stream",
     "text": [
      "Unique values in column 'LoanID':\n",
      "['I38PQUQS96' 'HPSK72WA7R' 'C1OZ6DPJ8Y' ... 'XQK1UUUNGP' 'JAO28CPL4H'\n",
      " 'ZTH91CGL0B']\n",
      "--------------------------------------------------\n",
      "\n",
      "\n",
      "Unique values in column 'Education':\n",
      "[\"Bachelor's\" \"Master's\" 'High School' 'PhD']\n",
      "--------------------------------------------------\n",
      "\n",
      "\n",
      "Unique values in column 'EmploymentType':\n",
      "['Full-time' 'Unemployed' 'Self-employed' 'Part-time']\n",
      "--------------------------------------------------\n",
      "\n",
      "\n",
      "Unique values in column 'MaritalStatus':\n",
      "['Divorced' 'Married' 'Single']\n",
      "--------------------------------------------------\n",
      "\n",
      "\n",
      "Unique values in column 'HasMortgage':\n",
      "['Yes' 'No']\n",
      "--------------------------------------------------\n",
      "\n",
      "\n",
      "Unique values in column 'HasDependents':\n",
      "['Yes' 'No']\n",
      "--------------------------------------------------\n",
      "\n",
      "\n",
      "Unique values in column 'LoanPurpose':\n",
      "['Other' 'Auto' 'Business' 'Home' 'Education']\n",
      "--------------------------------------------------\n",
      "\n",
      "\n",
      "Unique values in column 'HasCoSigner':\n",
      "['Yes' 'No']\n",
      "--------------------------------------------------\n",
      "\n",
      "\n"
     ]
    }
   ],
   "source": [
    "# Select only the columns with dtype 'object'\n",
    "object_columns = df.select_dtypes(include=['object'])\n",
    "\n",
    "# Iterate through the object columns and print unique values\n",
    "for column in object_columns.columns:\n",
    "    print(f\"Unique values in column '{column}':\")\n",
    "    print(df[column].unique())\n",
    "    print(\"-\" * 50)\n",
    "    print(\"\\n\")"
   ]
  },
  {
   "cell_type": "code",
   "execution_count": 90,
   "id": "c35cd941",
   "metadata": {},
   "outputs": [
    {
     "data": {
      "text/html": [
       "<div>\n",
       "<style scoped>\n",
       "    .dataframe tbody tr th:only-of-type {\n",
       "        vertical-align: middle;\n",
       "    }\n",
       "\n",
       "    .dataframe tbody tr th {\n",
       "        vertical-align: top;\n",
       "    }\n",
       "\n",
       "    .dataframe thead th {\n",
       "        text-align: right;\n",
       "    }\n",
       "</style>\n",
       "<table border=\"1\" class=\"dataframe\">\n",
       "  <thead>\n",
       "    <tr style=\"text-align: right;\">\n",
       "      <th></th>\n",
       "      <th>Age</th>\n",
       "      <th>Income</th>\n",
       "      <th>LoanAmount</th>\n",
       "      <th>CreditScore</th>\n",
       "      <th>MonthsEmployed</th>\n",
       "      <th>NumCreditLines</th>\n",
       "      <th>InterestRate</th>\n",
       "      <th>LoanTerm</th>\n",
       "      <th>DTIRatio</th>\n",
       "      <th>Default</th>\n",
       "    </tr>\n",
       "  </thead>\n",
       "  <tbody>\n",
       "    <tr>\n",
       "      <th>count</th>\n",
       "      <td>255347.000000</td>\n",
       "      <td>255347.000000</td>\n",
       "      <td>255347.000000</td>\n",
       "      <td>255347.000000</td>\n",
       "      <td>255347.000000</td>\n",
       "      <td>255347.000000</td>\n",
       "      <td>255347.000000</td>\n",
       "      <td>255347.000000</td>\n",
       "      <td>255347.000000</td>\n",
       "      <td>255347.000000</td>\n",
       "    </tr>\n",
       "    <tr>\n",
       "      <th>mean</th>\n",
       "      <td>43.498306</td>\n",
       "      <td>82499.304597</td>\n",
       "      <td>127578.865512</td>\n",
       "      <td>574.264346</td>\n",
       "      <td>59.541976</td>\n",
       "      <td>2.501036</td>\n",
       "      <td>13.492773</td>\n",
       "      <td>36.025894</td>\n",
       "      <td>0.500212</td>\n",
       "      <td>0.116128</td>\n",
       "    </tr>\n",
       "    <tr>\n",
       "      <th>std</th>\n",
       "      <td>14.990258</td>\n",
       "      <td>38963.013729</td>\n",
       "      <td>70840.706142</td>\n",
       "      <td>158.903867</td>\n",
       "      <td>34.643376</td>\n",
       "      <td>1.117018</td>\n",
       "      <td>6.636443</td>\n",
       "      <td>16.969330</td>\n",
       "      <td>0.230917</td>\n",
       "      <td>0.320379</td>\n",
       "    </tr>\n",
       "    <tr>\n",
       "      <th>min</th>\n",
       "      <td>18.000000</td>\n",
       "      <td>15000.000000</td>\n",
       "      <td>5000.000000</td>\n",
       "      <td>300.000000</td>\n",
       "      <td>0.000000</td>\n",
       "      <td>1.000000</td>\n",
       "      <td>2.000000</td>\n",
       "      <td>12.000000</td>\n",
       "      <td>0.100000</td>\n",
       "      <td>0.000000</td>\n",
       "    </tr>\n",
       "    <tr>\n",
       "      <th>25%</th>\n",
       "      <td>31.000000</td>\n",
       "      <td>48825.500000</td>\n",
       "      <td>66156.000000</td>\n",
       "      <td>437.000000</td>\n",
       "      <td>30.000000</td>\n",
       "      <td>2.000000</td>\n",
       "      <td>7.770000</td>\n",
       "      <td>24.000000</td>\n",
       "      <td>0.300000</td>\n",
       "      <td>0.000000</td>\n",
       "    </tr>\n",
       "    <tr>\n",
       "      <th>50%</th>\n",
       "      <td>43.000000</td>\n",
       "      <td>82466.000000</td>\n",
       "      <td>127556.000000</td>\n",
       "      <td>574.000000</td>\n",
       "      <td>60.000000</td>\n",
       "      <td>2.000000</td>\n",
       "      <td>13.460000</td>\n",
       "      <td>36.000000</td>\n",
       "      <td>0.500000</td>\n",
       "      <td>0.000000</td>\n",
       "    </tr>\n",
       "    <tr>\n",
       "      <th>75%</th>\n",
       "      <td>56.000000</td>\n",
       "      <td>116219.000000</td>\n",
       "      <td>188985.000000</td>\n",
       "      <td>712.000000</td>\n",
       "      <td>90.000000</td>\n",
       "      <td>3.000000</td>\n",
       "      <td>19.250000</td>\n",
       "      <td>48.000000</td>\n",
       "      <td>0.700000</td>\n",
       "      <td>0.000000</td>\n",
       "    </tr>\n",
       "    <tr>\n",
       "      <th>max</th>\n",
       "      <td>69.000000</td>\n",
       "      <td>149999.000000</td>\n",
       "      <td>249999.000000</td>\n",
       "      <td>849.000000</td>\n",
       "      <td>119.000000</td>\n",
       "      <td>4.000000</td>\n",
       "      <td>25.000000</td>\n",
       "      <td>60.000000</td>\n",
       "      <td>0.900000</td>\n",
       "      <td>1.000000</td>\n",
       "    </tr>\n",
       "  </tbody>\n",
       "</table>\n",
       "</div>"
      ],
      "text/plain": [
       "                 Age         Income     LoanAmount    CreditScore  \\\n",
       "count  255347.000000  255347.000000  255347.000000  255347.000000   \n",
       "mean       43.498306   82499.304597  127578.865512     574.264346   \n",
       "std        14.990258   38963.013729   70840.706142     158.903867   \n",
       "min        18.000000   15000.000000    5000.000000     300.000000   \n",
       "25%        31.000000   48825.500000   66156.000000     437.000000   \n",
       "50%        43.000000   82466.000000  127556.000000     574.000000   \n",
       "75%        56.000000  116219.000000  188985.000000     712.000000   \n",
       "max        69.000000  149999.000000  249999.000000     849.000000   \n",
       "\n",
       "       MonthsEmployed  NumCreditLines   InterestRate       LoanTerm  \\\n",
       "count   255347.000000   255347.000000  255347.000000  255347.000000   \n",
       "mean        59.541976        2.501036      13.492773      36.025894   \n",
       "std         34.643376        1.117018       6.636443      16.969330   \n",
       "min          0.000000        1.000000       2.000000      12.000000   \n",
       "25%         30.000000        2.000000       7.770000      24.000000   \n",
       "50%         60.000000        2.000000      13.460000      36.000000   \n",
       "75%         90.000000        3.000000      19.250000      48.000000   \n",
       "max        119.000000        4.000000      25.000000      60.000000   \n",
       "\n",
       "            DTIRatio        Default  \n",
       "count  255347.000000  255347.000000  \n",
       "mean        0.500212       0.116128  \n",
       "std         0.230917       0.320379  \n",
       "min         0.100000       0.000000  \n",
       "25%         0.300000       0.000000  \n",
       "50%         0.500000       0.000000  \n",
       "75%         0.700000       0.000000  \n",
       "max         0.900000       1.000000  "
      ]
     },
     "execution_count": 90,
     "metadata": {},
     "output_type": "execute_result"
    }
   ],
   "source": [
    "df.describe()"
   ]
  },
  {
   "cell_type": "code",
   "execution_count": 91,
   "id": "0463330b",
   "metadata": {},
   "outputs": [
    {
     "name": "stdout",
     "output_type": "stream",
     "text": [
      "<class 'pandas.core.frame.DataFrame'>\n",
      "RangeIndex: 255347 entries, 0 to 255346\n",
      "Data columns (total 26 columns):\n",
      " #   Column                        Non-Null Count   Dtype  \n",
      "---  ------                        --------------   -----  \n",
      " 0   LoanID                        255347 non-null  object \n",
      " 1   Age                           255347 non-null  float64\n",
      " 2   Income                        255347 non-null  float64\n",
      " 3   LoanAmount                    255347 non-null  float64\n",
      " 4   CreditScore                   255347 non-null  float64\n",
      " 5   MonthsEmployed                255347 non-null  float64\n",
      " 6   NumCreditLines                255347 non-null  float64\n",
      " 7   InterestRate                  255347 non-null  float64\n",
      " 8   LoanTerm                      255347 non-null  float64\n",
      " 9   DTIRatio                      255347 non-null  float64\n",
      " 10  Default                       255347 non-null  int64  \n",
      " 11  Education_High School         255347 non-null  bool   \n",
      " 12  Education_Master's            255347 non-null  bool   \n",
      " 13  Education_PhD                 255347 non-null  bool   \n",
      " 14  EmploymentType_Part-time      255347 non-null  bool   \n",
      " 15  EmploymentType_Self-employed  255347 non-null  bool   \n",
      " 16  EmploymentType_Unemployed     255347 non-null  bool   \n",
      " 17  MaritalStatus_Married         255347 non-null  bool   \n",
      " 18  MaritalStatus_Single          255347 non-null  bool   \n",
      " 19  HasMortgage_Yes               255347 non-null  bool   \n",
      " 20  HasDependents_Yes             255347 non-null  bool   \n",
      " 21  LoanPurpose_Business          255347 non-null  bool   \n",
      " 22  LoanPurpose_Education         255347 non-null  bool   \n",
      " 23  LoanPurpose_Home              255347 non-null  bool   \n",
      " 24  LoanPurpose_Other             255347 non-null  bool   \n",
      " 25  HasCoSigner_Yes               255347 non-null  bool   \n",
      "dtypes: bool(15), float64(9), int64(1), object(1)\n",
      "memory usage: 25.1+ MB\n"
     ]
    }
   ],
   "source": [
    "df_encoded.info()"
   ]
  },
  {
   "cell_type": "markdown",
   "id": "a6bd0fdd",
   "metadata": {},
   "source": [
    "## Correlation Analysis\n",
    "- **Key Insights**:\n",
    "  - No strong linear correlations observed between numerical features (all correlations are close to 0).\n",
    "  - This indicates minimal redundancy between features based on linear relationships.\n",
    "  - Non-linear relationships may still exist and should be investigated further."
   ]
  },
  {
   "cell_type": "code",
   "execution_count": 92,
   "id": "51dc056d",
   "metadata": {},
   "outputs": [
    {
     "data": {
      "image/png": "[encoded data removed]",
      "text/plain": [
       "<Figure size 1200x800 with 2 Axes>"
      ]
     },
     "metadata": {},
     "output_type": "display_data"
    }
   ],
   "source": [
    "# Correlation heatmap\n",
    "corr_matrix = df[['Age', 'Income', 'LoanAmount', 'CreditScore', 'MonthsEmployed', 'NumCreditLines', 'InterestRate', 'LoanTerm', 'DTIRatio']].corr()\n",
    "plt.figure(figsize=(12, 8))\n",
    "sns.heatmap(corr_matrix, annot=True, cmap='coolwarm')\n",
    "plt.title(\"Correlation Heatmap\")\n",
    "plt.show()\n"
   ]
  },
  {
   "cell_type": "markdown",
   "id": "d422adc3",
   "metadata": {},
   "source": [
    "## Target Variable Distribution\n",
    "- **Class Distribution**:\n",
    "  - **Non-Default (`0`)**: 88.39%\n",
    "  - **Default (`1`)**: 11.61%\n",
    "- **Observation**: The dataset is imbalanced, with a majority of loans categorized as `non-default`."
   ]
  },
  {
   "cell_type": "code",
   "execution_count": 93,
   "id": "1bd34157",
   "metadata": {},
   "outputs": [
    {
     "data": {
      "text/plain": [
       "Default\n",
       "0    88.387175\n",
       "1    11.612825\n",
       "Name: proportion, dtype: float64"
      ]
     },
     "execution_count": 93,
     "metadata": {},
     "output_type": "execute_result"
    }
   ],
   "source": [
    "# Counting percentage in the default\n",
    "df['Default'].value_counts(normalize=True) * 100"
   ]
  },
  {
   "cell_type": "markdown",
   "id": "d1e150f8",
   "metadata": {},
   "source": [
    "## Data Preprocessing\n",
    "- **One-Hot Encoding**:\n",
    "  - Categorical columns (`Education`, `EmploymentType`, `MaritalStatus`, etc.) were one-hot encoded using `drop_first=True` to avoid multicollinearity.\n",
    "- **Feature Engineering**:\n",
    "  - Added new derived features:\n",
    "    - `Income-to-Loan Ratio`: Ratio of `Income` to `LoanAmount`.\n",
    "    - `Debt-to-Income Ratio`: Ratio of `LoanAmount` to `Income`.\n",
    "- **Scaling**:\n",
    "  - Standardized numerical columns (`Age`, `Income`, `LoanAmount`, etc.) along with newly created features (`Income-to-Loan Ratio` and `Debt-to-Income Ratio`) using `StandardScaler`.\n",
    "- **Class Imbalance Handling**:\n",
    "  - Used **SMOTE (Synthetic Minority Oversampling Technique)** to balance the `Default` target variable.\n",
    "  - Ensures both classes (`Default = 0` and `Default = 1`) have equal representation in the training dataset.\n",
    "- **Train-Test Split**:\n",
    "  - Split the preprocessed dataset into training (70%) and testing (30%) sets."
   ]
  },
  {
   "cell_type": "markdown",
   "id": "b1284962",
   "metadata": {},
   "source": [
    "---"
   ]
  },
  {
   "cell_type": "markdown",
   "id": "e9ea7aef",
   "metadata": {},
   "source": [
    "One-Hot Encoding:"
   ]
  },
  {
   "cell_type": "code",
   "execution_count": 94,
   "id": "a838eed3",
   "metadata": {},
   "outputs": [],
   "source": [
    "df_encoded = pd.get_dummies(df, columns=['Education', 'EmploymentType', 'MaritalStatus', 'HasMortgage', 'HasDependents', 'LoanPurpose', 'HasCoSigner'], drop_first=True)\n",
    "# Drop the first category from each categorical column to avoid redundancy and multicollinearity."
   ]
  },
  {
   "cell_type": "markdown",
   "id": "dcef50f6",
   "metadata": {},
   "source": [
    "---"
   ]
  },
  {
   "cell_type": "markdown",
   "id": "89520026",
   "metadata": {},
   "source": [
    "Scaling:"
   ]
  },
  {
   "cell_type": "code",
   "execution_count": 95,
   "id": "c5fdd544",
   "metadata": {},
   "outputs": [
    {
     "name": "stdout",
     "output_type": "stream",
     "text": [
      "Numerical columns successfully scaled!\n"
     ]
    }
   ],
   "source": [
    "# Select numerical columns\n",
    "numerical_columns = ['Age', 'Income', 'LoanAmount', 'CreditScore', 'MonthsEmployed', \n",
    "                     'NumCreditLines', 'InterestRate', 'LoanTerm', 'DTIRatio']\n",
    "\n",
    "# Apply Standard Scaling\n",
    "scaler = StandardScaler()\n",
    "df_encoded[numerical_columns] = scaler.fit_transform(df_encoded[numerical_columns])\n",
    "\n",
    "print(\"Numerical columns successfully scaled!\")\n"
   ]
  },
  {
   "cell_type": "markdown",
   "id": "64ecb474",
   "metadata": {},
   "source": [
    "---"
   ]
  },
  {
   "cell_type": "markdown",
   "id": "5039ec49",
   "metadata": {},
   "source": [
    "Feature Engineering:"
   ]
  },
  {
   "cell_type": "code",
   "execution_count": 96,
   "id": "842addc7",
   "metadata": {},
   "outputs": [
    {
     "name": "stdout",
     "output_type": "stream",
     "text": [
      "Feature 'Income_to_Loan_Ratio' added!\n"
     ]
    }
   ],
   "source": [
    "# Create Income-to-Loan Ratio\n",
    "df_encoded['Income_to_Loan_Ratio'] = df['Income'] / df['LoanAmount']\n",
    "\n",
    "print(\"Feature 'Income_to_Loan_Ratio' added!\")\n"
   ]
  },
  {
   "cell_type": "code",
   "execution_count": 97,
   "id": "3dfb02d6",
   "metadata": {},
   "outputs": [
    {
     "name": "stdout",
     "output_type": "stream",
     "text": [
      "Feature 'Debt_to_Income_Ratio' added!\n"
     ]
    }
   ],
   "source": [
    "# Create Debt-to-Income Ratio (DTIRatio already exists, but here’s the formula for reference)\n",
    "# Assuming DTIRatio = LoanAmount / Income\n",
    "df_encoded['Debt_to_Income_Ratio'] = df['LoanAmount'] / df['Income']\n",
    "\n",
    "print(\"Feature 'Debt_to_Income_Ratio' added!\")\n"
   ]
  },
  {
   "cell_type": "markdown",
   "id": "1ad521c6",
   "metadata": {},
   "source": [
    "---"
   ]
  },
  {
   "cell_type": "markdown",
   "id": "e29aac67",
   "metadata": {},
   "source": [
    "Imbalancing:"
   ]
  },
  {
   "cell_type": "code",
   "execution_count": 98,
   "id": "dc0ff2c6",
   "metadata": {},
   "outputs": [
    {
     "name": "stdout",
     "output_type": "stream",
     "text": [
      "<class 'pandas.core.frame.DataFrame'>\n",
      "RangeIndex: 255347 entries, 0 to 255346\n",
      "Data columns (total 28 columns):\n",
      " #   Column                        Non-Null Count   Dtype  \n",
      "---  ------                        --------------   -----  \n",
      " 0   LoanID                        255347 non-null  object \n",
      " 1   Age                           255347 non-null  float64\n",
      " 2   Income                        255347 non-null  float64\n",
      " 3   LoanAmount                    255347 non-null  float64\n",
      " 4   CreditScore                   255347 non-null  float64\n",
      " 5   MonthsEmployed                255347 non-null  float64\n",
      " 6   NumCreditLines                255347 non-null  float64\n",
      " 7   InterestRate                  255347 non-null  float64\n",
      " 8   LoanTerm                      255347 non-null  float64\n",
      " 9   DTIRatio                      255347 non-null  float64\n",
      " 10  Default                       255347 non-null  int64  \n",
      " 11  Education_High School         255347 non-null  bool   \n",
      " 12  Education_Master's            255347 non-null  bool   \n",
      " 13  Education_PhD                 255347 non-null  bool   \n",
      " 14  EmploymentType_Part-time      255347 non-null  bool   \n",
      " 15  EmploymentType_Self-employed  255347 non-null  bool   \n",
      " 16  EmploymentType_Unemployed     255347 non-null  bool   \n",
      " 17  MaritalStatus_Married         255347 non-null  bool   \n",
      " 18  MaritalStatus_Single          255347 non-null  bool   \n",
      " 19  HasMortgage_Yes               255347 non-null  bool   \n",
      " 20  HasDependents_Yes             255347 non-null  bool   \n",
      " 21  LoanPurpose_Business          255347 non-null  bool   \n",
      " 22  LoanPurpose_Education         255347 non-null  bool   \n",
      " 23  LoanPurpose_Home              255347 non-null  bool   \n",
      " 24  LoanPurpose_Other             255347 non-null  bool   \n",
      " 25  HasCoSigner_Yes               255347 non-null  bool   \n",
      " 26  Income_to_Loan_Ratio          255347 non-null  float64\n",
      " 27  Debt_to_Income_Ratio          255347 non-null  float64\n",
      "dtypes: bool(15), float64(11), int64(1), object(1)\n",
      "memory usage: 29.0+ MB\n"
     ]
    }
   ],
   "source": [
    "df_encoded.info()"
   ]
  },
  {
   "cell_type": "code",
   "execution_count": 99,
   "id": "c0a5505e",
   "metadata": {},
   "outputs": [
    {
     "name": "stdout",
     "output_type": "stream",
     "text": [
      "Age                             float64\n",
      "Income                          float64\n",
      "LoanAmount                      float64\n",
      "CreditScore                     float64\n",
      "MonthsEmployed                  float64\n",
      "NumCreditLines                  float64\n",
      "InterestRate                    float64\n",
      "LoanTerm                        float64\n",
      "DTIRatio                        float64\n",
      "Education_High School              bool\n",
      "Education_Master's                 bool\n",
      "Education_PhD                      bool\n",
      "EmploymentType_Part-time           bool\n",
      "EmploymentType_Self-employed       bool\n",
      "EmploymentType_Unemployed          bool\n",
      "MaritalStatus_Married              bool\n",
      "MaritalStatus_Single               bool\n",
      "HasMortgage_Yes                    bool\n",
      "HasDependents_Yes                  bool\n",
      "LoanPurpose_Business               bool\n",
      "LoanPurpose_Education              bool\n",
      "LoanPurpose_Home                   bool\n",
      "LoanPurpose_Other                  bool\n",
      "HasCoSigner_Yes                    bool\n",
      "Income_to_Loan_Ratio            float64\n",
      "Debt_to_Income_Ratio            float64\n",
      "dtype: object\n"
     ]
    }
   ],
   "source": [
    "# Drop non-numerical columns (e.g., LoanID) from X\n",
    "X = df_encoded.drop(columns=['LoanID', 'Default'])  # Drop target and identifier columns\n",
    "y = df_encoded['Default']\n",
    "\n",
    "# Check if all columns in X are numerical\n",
    "print(X.dtypes)"
   ]
  },
  {
   "cell_type": "code",
   "execution_count": 100,
   "id": "2d1d72fa",
   "metadata": {},
   "outputs": [
    {
     "name": "stdout",
     "output_type": "stream",
     "text": [
      "Class imbalance handled using SMOTE!\n",
      "New class distribution:\n",
      "Default\n",
      "0    225694\n",
      "1    225694\n",
      "Name: count, dtype: int64\n"
     ]
    }
   ],
   "source": [
    "# Apply SMOTE\n",
    "smote = SMOTE(random_state=42)\n",
    "\n",
    "X_resampled, y_resampled = smote.fit_resample(X, y)\n",
    "\n",
    "print(\"Class imbalance handled using SMOTE!\")\n",
    "print(\"New class distribution:\")\n",
    "print(y_resampled.value_counts())"
   ]
  },
  {
   "cell_type": "code",
   "execution_count": 114,
   "id": "c61c65f4",
   "metadata": {},
   "outputs": [
    {
     "name": "stdout",
     "output_type": "stream",
     "text": [
      "Original dataset size: (255347, 28)\n",
      "Original target distribution:\n",
      "Default\n",
      "0    225694\n",
      "1     29653\n",
      "Name: count, dtype: int64\n",
      "--------------------------------------------------\n",
      "Resampled dataset size: (451388, 26)\n",
      "Resampled target distribution:\n",
      "Default\n",
      "0    225694\n",
      "1    225694\n",
      "Name: count, dtype: int64\n"
     ]
    }
   ],
   "source": [
    "# checking sizes before and after resampling\n",
    "print(\"Original dataset size:\", df_encoded.shape)\n",
    "print(\"Original target distribution:\")\n",
    "print(y.value_counts())\n",
    "print(\"-\" * 50)\n",
    "print(\"Resampled dataset size:\", X_resampled.shape)\n",
    "print(\"Resampled target distribution:\")\n",
    "print(y_resampled.value_counts())\n",
    "\n"
   ]
  },
  {
   "cell_type": "markdown",
   "id": "e4d596dc",
   "metadata": {},
   "source": [
    "---"
   ]
  },
  {
   "cell_type": "markdown",
   "id": "917b2790",
   "metadata": {},
   "source": [
    "Train-Test Split:"
   ]
  },
  {
   "cell_type": "code",
   "execution_count": 115,
   "id": "c594c659",
   "metadata": {},
   "outputs": [
    {
     "name": "stdout",
     "output_type": "stream",
     "text": [
      "Train-test split completed!\n",
      "Training samples: 315971\n",
      "Testing samples: 135417\n"
     ]
    }
   ],
   "source": [
    "# Split the resampled data into training and testing sets\n",
    "X_train, X_test, y_train, y_test = train_test_split(X_resampled, y_resampled, \n",
    "                                                    test_size=0.3, random_state=42)\n",
    "\n",
    "print(\"Train-test split completed!\")\n",
    "print(f\"Training samples: {len(y_train)}\")\n",
    "print(f\"Testing samples: {len(y_test)}\")\n"
   ]
  },
  {
   "cell_type": "code",
   "execution_count": null,
   "id": "b1d877ea",
   "metadata": {},
   "outputs": [],
   "source": []
  },
  {
   "cell_type": "markdown",
   "id": "9900c65a",
   "metadata": {},
   "source": [
    "---"
   ]
  },
  {
   "cell_type": "markdown",
   "id": "63b7fd24",
   "metadata": {},
   "source": [
    "---"
   ]
  },
  {
   "cell_type": "markdown",
   "id": "1db97903",
   "metadata": {},
   "source": [
    "<h1 style=\"text-align: center;\">ML</h1>\n"
   ]
  },
  {
   "cell_type": "code",
   "execution_count": null,
   "id": "c0e51065",
   "metadata": {},
   "outputs": [],
   "source": []
  }
 ],
 "metadata": {
  "kernelspec": {
   "display_name": "Python 3 (ipykernel)",
   "language": "python",
   "name": "python3"
  },
  "language_info": {
   "codemirror_mode": {
    "name": "ipython",
    "version": 3
   },
   "file_extension": ".py",
   "mimetype": "text/x-python",
   "name": "python",
   "nbconvert_exporter": "python",
   "pygments_lexer": "ipython3",
   "version": "3.10.9"
  }
 },
 "nbformat": 4,
 "nbformat_minor": 5
}
